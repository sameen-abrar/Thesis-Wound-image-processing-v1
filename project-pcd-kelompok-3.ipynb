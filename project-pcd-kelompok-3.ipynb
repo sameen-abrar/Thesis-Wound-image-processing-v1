{
 "cells": [
  {
   "cell_type": "markdown",
   "metadata": {
    "execution": {
     "iopub.execute_input": "2023-06-21T15:18:10.766515Z",
     "iopub.status.busy": "2023-06-21T15:18:10.766033Z",
     "iopub.status.idle": "2023-06-21T15:18:10.772502Z",
     "shell.execute_reply": "2023-06-21T15:18:10.770987Z",
     "shell.execute_reply.started": "2023-06-21T15:18:10.76648Z"
    }
   },
   "source": [
    "# Segmentasi Citra Luka Luar Berbasis Warna Menggunakan Teknik Active Contour\n",
    "\n",
    "Kelompok 3\n",
    "- Sandhi Karunia Sugihartana (2107411007)\n",
    "- Muhammad Haikal Al Rasyid  (2107411025)\n",
    "- Gerry Satria Halim         (2107411028)"
   ]
  },
  {
   "cell_type": "markdown",
   "metadata": {},
   "source": [
    "## Implementasi Metode Lama : Active Contour\n",
    "### Mendapatkan Data"
   ]
  },
  {
   "cell_type": "code",
   "execution_count": null,
   "metadata": {
    "_cell_guid": "b1076dfc-b9ad-4769-8c92-a6c4dae69d19",
    "_uuid": "8f2839f25d086af736a60e9eeb907d3b93b6e0e5",
    "execution": {
     "iopub.execute_input": "2023-07-12T04:00:57.746137Z",
     "iopub.status.busy": "2023-07-12T04:00:57.74565Z",
     "iopub.status.idle": "2023-07-12T04:00:57.766482Z",
     "shell.execute_reply": "2023-07-12T04:00:57.765524Z",
     "shell.execute_reply.started": "2023-07-12T04:00:57.746095Z"
    }
   },
   "outputs": [],
   "source": [
    "import cv2               as cv\n",
    "import matplotlib.pyplot as plt\n",
    "import numpy             as np\n",
    "import pandas            as pd\n",
    "import os\n",
    "import time\n",
    "\n",
    "from skimage.filters import gaussian\n",
    "from skimage.segmentation import active_contour\n",
    "\n",
    "DATASET_PATH = '../input/wound-dataset/Wound_dataset/'\n",
    "\n",
    "def pick(data, number):\n",
    "    parent = data.capitalize()\n",
    "    child = data.lower()\n",
    "    if parent == 'Ingrown_nails':\n",
    "        child = 'ingrown_nail'\n",
    "    if parent == 'Laceration':\n",
    "        child = 'laseration'\n",
    "    path = DATASET_PATH + parent + '/' + child + ' (' + str(number) + ').jpg'\n",
    "    if not os.path.exists(path):\n",
    "        print('File tidak ditemukan')\n",
    "    return path\n",
    "\n",
    "citra = cv.imread(pick('cut', 15))"
   ]
  },
  {
   "cell_type": "markdown",
   "metadata": {},
   "source": [
    "## Pre-processing"
   ]
  },
  {
   "cell_type": "markdown",
   "metadata": {},
   "source": [
    "### Grayscaling"
   ]
  },
  {
   "cell_type": "code",
   "execution_count": null,
   "metadata": {
    "execution": {
     "iopub.execute_input": "2023-07-12T04:00:57.770222Z",
     "iopub.status.busy": "2023-07-12T04:00:57.768972Z",
     "iopub.status.idle": "2023-07-12T04:00:58.246191Z",
     "shell.execute_reply": "2023-07-12T04:00:58.245216Z",
     "shell.execute_reply.started": "2023-07-12T04:00:57.770179Z"
    }
   },
   "outputs": [],
   "source": [
    "citra_grayscale = cv.cvtColor(citra, cv.COLOR_BGR2GRAY)\n",
    "\n",
    "fig, axes = plt.subplots(1, 2,figsize=(10, 5))\n",
    "axes[0].imshow(cv.cvtColor(citra, cv.COLOR_BGR2RGB))\n",
    "axes[0].set_title(\"Citra Original\")\n",
    "axes[0].axis('off')\n",
    "axes[1].imshow(citra_grayscale, cmap='gray')\n",
    "axes[1].set_title(\"Citra Grayscale\")\n",
    "axes[1].axis('off')\n",
    "plt.show()"
   ]
  },
  {
   "cell_type": "markdown",
   "metadata": {},
   "source": [
    "### Pencerahan"
   ]
  },
  {
   "cell_type": "code",
   "execution_count": null,
   "metadata": {
    "execution": {
     "iopub.execute_input": "2023-07-12T04:00:58.248081Z",
     "iopub.status.busy": "2023-07-12T04:00:58.2475Z",
     "iopub.status.idle": "2023-07-12T04:00:58.896367Z",
     "shell.execute_reply": "2023-07-12T04:00:58.895213Z",
     "shell.execute_reply.started": "2023-07-12T04:00:58.248051Z"
    }
   },
   "outputs": [],
   "source": [
    "brightness = 200\n",
    "citra_brightened = cv.add(citra_grayscale, brightness)\n",
    "\n",
    "fig, axes = plt.subplots(1, 2,figsize=(10, 5))\n",
    "axes[0].imshow(citra_grayscale, cmap='gray')\n",
    "axes[0].set_title(\"Citra Grayscale\")\n",
    "axes[0].axis('off')\n",
    "axes[1].imshow(citra_brightened, cmap='gray')\n",
    "axes[1].set_title(\"Citra Diterangkan\")\n",
    "axes[1].axis('off')\n",
    "plt.show()"
   ]
  },
  {
   "cell_type": "markdown",
   "metadata": {},
   "source": [
    "### Denoising Citra"
   ]
  },
  {
   "cell_type": "code",
   "execution_count": null,
   "metadata": {
    "execution": {
     "iopub.execute_input": "2023-07-12T04:00:58.899978Z",
     "iopub.status.busy": "2023-07-12T04:00:58.899523Z",
     "iopub.status.idle": "2023-07-12T04:00:59.326906Z",
     "shell.execute_reply": "2023-07-12T04:00:59.325917Z",
     "shell.execute_reply.started": "2023-07-12T04:00:58.89994Z"
    }
   },
   "outputs": [],
   "source": [
    "citra_denoise = cv.medianBlur(citra_brightened, 3)\n",
    "citra_denoise = cv.fastNlMeansDenoising(citra_denoise, None, 10, 10, 7)\n",
    "\n",
    "fig, axes = plt.subplots(1, 2,figsize=(10, 5))\n",
    "axes[0].imshow(citra_brightened, cmap='gray')\n",
    "axes[0].set_title(\"Citra Diterangkan\")\n",
    "axes[0].axis('off')\n",
    "axes[1].imshow(citra_denoise, cmap='gray')\n",
    "axes[1].set_title(\"Citra Denoise\")\n",
    "axes[1].axis('off')\n",
    "plt.show()"
   ]
  },
  {
   "cell_type": "markdown",
   "metadata": {},
   "source": [
    "### Penyesuaian Kontras"
   ]
  },
  {
   "cell_type": "code",
   "execution_count": null,
   "metadata": {
    "execution": {
     "iopub.execute_input": "2023-07-12T04:00:59.329125Z",
     "iopub.status.busy": "2023-07-12T04:00:59.328243Z",
     "iopub.status.idle": "2023-07-12T04:00:59.681626Z",
     "shell.execute_reply": "2023-07-12T04:00:59.68041Z",
     "shell.execute_reply.started": "2023-07-12T04:00:59.329088Z"
    }
   },
   "outputs": [],
   "source": [
    "citra_contrast_adjusted = cv.equalizeHist(citra_denoise)\n",
    "\n",
    "fig, axes = plt.subplots(1, 2,figsize=(10, 5))\n",
    "axes[0].imshow(citra_denoise, cmap='gray')\n",
    "axes[0].set_title(\"Citra Denoise\")\n",
    "axes[0].axis('off')\n",
    "axes[1].imshow(citra_contrast_adjusted, cmap='gray')\n",
    "axes[1].set_title(\"Citra Contrast Adjustment\")\n",
    "axes[1].axis('off')\n",
    "plt.show()"
   ]
  },
  {
   "cell_type": "markdown",
   "metadata": {},
   "source": [
    "### Segmentasi dengan Active Contour"
   ]
  },
  {
   "cell_type": "code",
   "execution_count": null,
   "metadata": {
    "execution": {
     "iopub.execute_input": "2023-07-12T04:00:59.68361Z",
     "iopub.status.busy": "2023-07-12T04:00:59.683259Z",
     "iopub.status.idle": "2023-07-12T04:01:14.762419Z",
     "shell.execute_reply": "2023-07-12T04:01:14.761143Z",
     "shell.execute_reply.started": "2023-07-12T04:00:59.683581Z"
    }
   },
   "outputs": [],
   "source": [
    "s = np.linspace(0, 2*np.pi, 500)\n",
    "r = 300 + 300*np.sin(s)\n",
    "c = 320 + 300*np.cos(s)\n",
    "init = np.array([r, c]).T\n",
    "\n",
    "# Segmentasi dengan Active Contour\n",
    "snake = active_contour(gaussian(citra_contrast_adjusted, 3, preserve_range=False),\n",
    "                       init, alpha=0.01, beta=0, gamma=0.001)\n",
    "\n",
    "fig, axes = plt.subplots(1, 2,figsize=(10, 5))\n",
    "axes[0].set_title(\"Citra Original\")\n",
    "axes[0].imshow(citra[...,::-1], cmap='gray')\n",
    "axes[0].axis('off')\n",
    "axes[1].imshow(citra[...,::-1], cmap='gray')\n",
    "axes[1].plot(snake[:, 1], snake[:, 0], '-w', lw=3)\n",
    "axes[1].set_title(\"Hasil Segmentasi dengan Active Contour\")\n",
    "axes[1].axis('off')\n",
    "plt.show()\n",
    "\n",
    "selisih = np.array(citra_denoise) - np.array(citra[:, :, 0])\n",
    "mse = np.mean(np.square(selisih))\n",
    "psnr = 10 * np.log10(255 / np.sqrt(mse))\n",
    "print(\"MSE :\", mse)\n",
    "print(\"PSNR:\", psnr)"
   ]
  },
  {
   "cell_type": "markdown",
   "metadata": {},
   "source": [
    "## Implementasi Metode Baru : Contour Detection"
   ]
  },
  {
   "cell_type": "markdown",
   "metadata": {},
   "source": [
    "### Grayscaling"
   ]
  },
  {
   "cell_type": "code",
   "execution_count": null,
   "metadata": {
    "execution": {
     "iopub.execute_input": "2023-07-12T04:01:14.765376Z",
     "iopub.status.busy": "2023-07-12T04:01:14.764225Z",
     "iopub.status.idle": "2023-07-12T04:01:15.187974Z",
     "shell.execute_reply": "2023-07-12T04:01:15.186849Z",
     "shell.execute_reply.started": "2023-07-12T04:01:14.76534Z"
    }
   },
   "outputs": [],
   "source": [
    "img = cv.imread(pick('cut', 15))\n",
    "img_grayscale = cv.cvtColor(img, cv.COLOR_BGR2GRAY)\n",
    "\n",
    "fig, axes = plt.subplots(1, 2,figsize=(10, 5))\n",
    "axes[0].imshow(cv.cvtColor(img, cv.COLOR_BGR2RGB))\n",
    "axes[0].set_title(\"Citra Original\")\n",
    "axes[0].axis('off')\n",
    "axes[1].imshow(img_grayscale, cmap='gray')\n",
    "axes[1].set_title(\"Citra Grayscale\")\n",
    "axes[1].axis('off')\n",
    "plt.show()"
   ]
  },
  {
   "cell_type": "markdown",
   "metadata": {},
   "source": [
    "### Binary Thresholding"
   ]
  },
  {
   "cell_type": "code",
   "execution_count": null,
   "metadata": {
    "execution": {
     "iopub.execute_input": "2023-07-12T04:01:15.189544Z",
     "iopub.status.busy": "2023-07-12T04:01:15.189227Z",
     "iopub.status.idle": "2023-07-12T04:01:15.518654Z",
     "shell.execute_reply": "2023-07-12T04:01:15.517595Z",
     "shell.execute_reply.started": "2023-07-12T04:01:15.189518Z"
    }
   },
   "outputs": [],
   "source": [
    "ret, thresh = cv.threshold(img_grayscale, 25, 255, cv.THRESH_BINARY)\n",
    "\n",
    "fig, axes = plt.subplots(1, 2,figsize=(10, 5))\n",
    "axes[0].imshow(img_grayscale, cmap='gray')\n",
    "axes[0].set_title(\"Citra Grayscale\")\n",
    "axes[0].axis('off')\n",
    "axes[1].imshow(thresh, cmap='gray')\n",
    "axes[1].set_title(\"Citra Threshold\")\n",
    "axes[1].axis('off')\n",
    "plt.show()"
   ]
  },
  {
   "cell_type": "markdown",
   "metadata": {},
   "source": [
    "### Segmentasi dengan Contour Detection"
   ]
  },
  {
   "cell_type": "code",
   "execution_count": null,
   "metadata": {
    "execution": {
     "iopub.execute_input": "2023-07-12T04:01:15.521194Z",
     "iopub.status.busy": "2023-07-12T04:01:15.520387Z",
     "iopub.status.idle": "2023-07-12T04:01:15.954717Z",
     "shell.execute_reply": "2023-07-12T04:01:15.953739Z",
     "shell.execute_reply.started": "2023-07-12T04:01:15.521155Z"
    }
   },
   "outputs": [],
   "source": [
    "contours, hierarchy = cv.findContours(image=thresh, mode=cv.RETR_TREE, method=cv.CHAIN_APPROX_NONE)\n",
    "image_copy = img.copy()\n",
    "cv.drawContours(image=image_copy, contours=contours, contourIdx=-1, color=(0, 255, 0), thickness=2, lineType=cv.LINE_AA)\n",
    "\n",
    "fig, axes = plt.subplots(1, 2,figsize=(10, 5))\n",
    "axes[0].imshow(img[...,::-1], cmap='gray')\n",
    "axes[0].set_title(\"Citra Original\")\n",
    "axes[0].axis('off')\n",
    "axes[1].imshow(image_copy[...,::-1], cmap='gray')\n",
    "axes[1].set_title(\"Hasil Segmentasi dengan Contour Detection\")\n",
    "axes[1].axis('off')\n",
    "plt.show()\n",
    "\n",
    "selisih = np.array(image_copy) - np.array(img)\n",
    "mse = np.mean(np.square(selisih))\n",
    "psnr = 10 * np.log10(255 / np.sqrt(mse))\n",
    "print(\"MSE :\", mse)\n",
    "print(\"PSNR:\", psnr)"
   ]
  },
  {
   "cell_type": "markdown",
   "metadata": {},
   "source": [
    "## Penerapan Active Contour pada Citra yang terdapat pada Datasets"
   ]
  },
  {
   "cell_type": "markdown",
   "metadata": {},
   "source": [
    "### Fungsi Active Contour"
   ]
  },
  {
   "cell_type": "code",
   "execution_count": null,
   "metadata": {
    "execution": {
     "iopub.execute_input": "2023-07-12T04:01:15.960982Z",
     "iopub.status.busy": "2023-07-12T04:01:15.95999Z",
     "iopub.status.idle": "2023-07-12T04:01:15.973833Z",
     "shell.execute_reply": "2023-07-12T04:01:15.972678Z",
     "shell.execute_reply.started": "2023-07-12T04:01:15.960947Z"
    }
   },
   "outputs": [],
   "source": [
    "def seg_active_contour(folder, nomor, bright, x, a, y, b):\n",
    "    citra = cv.imread(pick(folder, nomor))\n",
    "    citra_grayscale = cv.cvtColor(citra, cv.COLOR_BGR2GRAY)\n",
    "    brightness = bright\n",
    "    citra_brightened = cv.add(citra_grayscale, brightness)\n",
    "    citra_denoise = cv.medianBlur(citra_brightened, 3)\n",
    "    citra_denoise = cv.fastNlMeansDenoising(citra_denoise, None, 10, 10, 7)\n",
    "    citra_contrast_adjusted = cv.equalizeHist(citra_denoise)\n",
    "    s = np.linspace(0, 2*np.pi, 500)\n",
    "    r = x + a*np.sin(s)\n",
    "    c = y + b*np.cos(s)\n",
    "    init = np.array([r, c]).T\n",
    "    snake = active_contour(gaussian(citra_contrast_adjusted, 3, preserve_range=False),\n",
    "                           init, alpha=0.01, beta=0, gamma=0.001)\n",
    "    \n",
    "    fig, axes = plt.subplots(1, 2, figsize=(10, 5))\n",
    "    axes[0].set_title(\"Citra Original\")\n",
    "    axes[0].imshow(citra[..., ::-1], cmap='gray')\n",
    "    axes[0].axis('off')\n",
    "    axes[1].imshow(citra[..., ::-1], cmap='gray')\n",
    "    axes[1].plot(snake[:, 1], snake[:, 0], '-w', lw=3)\n",
    "    axes[1].set_title(\"Hasil Segmentasi dengan Active Contour\")\n",
    "    axes[1].axis('off')\n",
    "    plt.show()\n",
    "    selisih = np.array(citra_denoise) - np.array(citra[:, :, 0])\n",
    "    mse = np.mean(np.square(selisih))\n",
    "    psnr = 10 * np.log10(255 / np.sqrt(mse))\n",
    "    print(\"MSE: \", mse)\n",
    "    print(\"PSNR: \", psnr)"
   ]
  },
  {
   "cell_type": "markdown",
   "metadata": {},
   "source": [
    "#### 1. Citra abrasion(3).jpg"
   ]
  },
  {
   "cell_type": "code",
   "execution_count": null,
   "metadata": {
    "execution": {
     "iopub.execute_input": "2023-07-12T04:01:15.975345Z",
     "iopub.status.busy": "2023-07-12T04:01:15.975027Z",
     "iopub.status.idle": "2023-07-12T04:01:34.673533Z",
     "shell.execute_reply": "2023-07-12T04:01:34.672347Z",
     "shell.execute_reply.started": "2023-07-12T04:01:15.97532Z"
    }
   },
   "outputs": [],
   "source": [
    "seg_active_contour(folder='abrasions', nomor=3, bright=144, x=300, a=300, y=320, b=300)"
   ]
  },
  {
   "cell_type": "markdown",
   "metadata": {},
   "source": [
    "#### 2. Citra bruises(2).jpg"
   ]
  },
  {
   "cell_type": "code",
   "execution_count": null,
   "metadata": {
    "execution": {
     "iopub.execute_input": "2023-07-12T04:01:34.675477Z",
     "iopub.status.busy": "2023-07-12T04:01:34.675088Z",
     "iopub.status.idle": "2023-07-12T04:01:41.006336Z",
     "shell.execute_reply": "2023-07-12T04:01:41.005426Z",
     "shell.execute_reply.started": "2023-07-12T04:01:34.675443Z"
    }
   },
   "outputs": [],
   "source": [
    "seg_active_contour(folder='bruises', nomor=2, bright=75, x=300, a=300, y=320, b=300)"
   ]
  },
  {
   "cell_type": "markdown",
   "metadata": {},
   "source": [
    "#### 3. Citra burns(36).jpg"
   ]
  },
  {
   "cell_type": "code",
   "execution_count": null,
   "metadata": {
    "execution": {
     "iopub.execute_input": "2023-07-12T04:01:41.008944Z",
     "iopub.status.busy": "2023-07-12T04:01:41.008007Z",
     "iopub.status.idle": "2023-07-12T04:01:51.146163Z",
     "shell.execute_reply": "2023-07-12T04:01:51.144757Z",
     "shell.execute_reply.started": "2023-07-12T04:01:41.008908Z"
    }
   },
   "outputs": [],
   "source": [
    "seg_active_contour(folder='burns', nomor=36, bright=215, x=300, a=300, y=320, b=300)"
   ]
  },
  {
   "cell_type": "markdown",
   "metadata": {},
   "source": [
    "#### 4. Citra cut(15).jpg"
   ]
  },
  {
   "cell_type": "code",
   "execution_count": null,
   "metadata": {
    "execution": {
     "iopub.execute_input": "2023-07-12T04:01:51.148267Z",
     "iopub.status.busy": "2023-07-12T04:01:51.147692Z",
     "iopub.status.idle": "2023-07-12T04:02:06.218593Z",
     "shell.execute_reply": "2023-07-12T04:02:06.217446Z",
     "shell.execute_reply.started": "2023-07-12T04:01:51.148235Z"
    }
   },
   "outputs": [],
   "source": [
    "seg_active_contour(folder='cut', nomor=15, bright=200, x=300, a=300, y=320, b=300)"
   ]
  },
  {
   "cell_type": "markdown",
   "metadata": {},
   "source": [
    "#### 5. Citra laceration(15).jpg"
   ]
  },
  {
   "cell_type": "code",
   "execution_count": null,
   "metadata": {
    "execution": {
     "iopub.execute_input": "2023-07-12T04:02:06.22144Z",
     "iopub.status.busy": "2023-07-12T04:02:06.220599Z",
     "iopub.status.idle": "2023-07-12T04:02:14.822368Z",
     "shell.execute_reply": "2023-07-12T04:02:14.821208Z",
     "shell.execute_reply.started": "2023-07-12T04:02:06.221407Z"
    }
   },
   "outputs": [],
   "source": [
    "seg_active_contour(folder='laceration', nomor=15, bright=120, x=300, a=300, y=320, b=300)"
   ]
  },
  {
   "cell_type": "markdown",
   "metadata": {},
   "source": [
    "#### 6. Citra ingrown_nail(4).jpg"
   ]
  },
  {
   "cell_type": "code",
   "execution_count": null,
   "metadata": {
    "execution": {
     "iopub.execute_input": "2023-07-12T04:02:14.824028Z",
     "iopub.status.busy": "2023-07-12T04:02:14.823661Z",
     "iopub.status.idle": "2023-07-12T04:02:26.683767Z",
     "shell.execute_reply": "2023-07-12T04:02:26.6829Z",
     "shell.execute_reply.started": "2023-07-12T04:02:14.823987Z"
    }
   },
   "outputs": [],
   "source": [
    "seg_active_contour(folder='ingrown_nails', nomor=4, bright=146, x=320, a=150, y=360, b=150)"
   ]
  },
  {
   "cell_type": "markdown",
   "metadata": {},
   "source": [
    "#### 7. Citra stab_wound(5).jpg"
   ]
  },
  {
   "cell_type": "code",
   "execution_count": null,
   "metadata": {
    "execution": {
     "iopub.execute_input": "2023-07-12T04:02:26.686088Z",
     "iopub.status.busy": "2023-07-12T04:02:26.685095Z",
     "iopub.status.idle": "2023-07-12T04:02:32.12755Z",
     "shell.execute_reply": "2023-07-12T04:02:32.126567Z",
     "shell.execute_reply.started": "2023-07-12T04:02:26.686054Z"
    }
   },
   "outputs": [],
   "source": [
    "seg_active_contour(folder='stab_wound', nomor=5, bright=180, x=250, a=200, y=250, b=200)"
   ]
  },
  {
   "cell_type": "markdown",
   "metadata": {},
   "source": [
    "#### 8. Citra abrasions(1).jpg"
   ]
  },
  {
   "cell_type": "code",
   "execution_count": null,
   "metadata": {
    "execution": {
     "iopub.execute_input": "2023-07-12T04:02:32.129726Z",
     "iopub.status.busy": "2023-07-12T04:02:32.128839Z",
     "iopub.status.idle": "2023-07-12T04:02:41.756548Z",
     "shell.execute_reply": "2023-07-12T04:02:41.755296Z",
     "shell.execute_reply.started": "2023-07-12T04:02:32.129691Z"
    }
   },
   "outputs": [],
   "source": [
    "seg_active_contour(folder='abrasions', nomor=1, bright=140, x=300, a=200, y=320, b=130)"
   ]
  },
  {
   "cell_type": "markdown",
   "metadata": {},
   "source": [
    "#### 9. Citra bruises(1).jpg"
   ]
  },
  {
   "cell_type": "code",
   "execution_count": null,
   "metadata": {
    "execution": {
     "iopub.execute_input": "2023-07-12T04:02:41.758702Z",
     "iopub.status.busy": "2023-07-12T04:02:41.758218Z",
     "iopub.status.idle": "2023-07-12T04:02:44.59302Z",
     "shell.execute_reply": "2023-07-12T04:02:44.5917Z",
     "shell.execute_reply.started": "2023-07-12T04:02:41.758666Z"
    }
   },
   "outputs": [],
   "source": [
    "seg_active_contour(folder='bruises', nomor=1, bright=80, x=300, a=200, y=430, b=130)"
   ]
  },
  {
   "cell_type": "markdown",
   "metadata": {},
   "source": [
    "#### 10. Citra burns(24).jpg"
   ]
  },
  {
   "cell_type": "code",
   "execution_count": null,
   "metadata": {
    "execution": {
     "iopub.execute_input": "2023-07-12T04:02:44.59549Z",
     "iopub.status.busy": "2023-07-12T04:02:44.59487Z",
     "iopub.status.idle": "2023-07-12T04:02:48.38901Z",
     "shell.execute_reply": "2023-07-12T04:02:48.387923Z",
     "shell.execute_reply.started": "2023-07-12T04:02:44.595457Z"
    }
   },
   "outputs": [],
   "source": [
    "seg_active_contour(folder='burns', nomor=24, bright=160, x=350, a=220, y=300, b=300)"
   ]
  },
  {
   "cell_type": "markdown",
   "metadata": {},
   "source": [
    "#### 11. Citra abrasions(19).jpg"
   ]
  },
  {
   "cell_type": "code",
   "execution_count": null,
   "metadata": {
    "execution": {
     "iopub.execute_input": "2023-07-12T04:02:48.391586Z",
     "iopub.status.busy": "2023-07-12T04:02:48.390673Z",
     "iopub.status.idle": "2023-07-12T04:02:58.648676Z",
     "shell.execute_reply": "2023-07-12T04:02:58.647148Z",
     "shell.execute_reply.started": "2023-07-12T04:02:48.39155Z"
    }
   },
   "outputs": [],
   "source": [
    "seg_active_contour(folder='abrasions', nomor=19, bright=150, x=400, a=200, y=320, b=130)"
   ]
  },
  {
   "cell_type": "markdown",
   "metadata": {},
   "source": [
    "#### 12. Citra bruises(9).jpg"
   ]
  },
  {
   "cell_type": "code",
   "execution_count": null,
   "metadata": {
    "execution": {
     "iopub.execute_input": "2023-07-12T04:02:58.650852Z",
     "iopub.status.busy": "2023-07-12T04:02:58.650159Z",
     "iopub.status.idle": "2023-07-12T04:03:03.925581Z",
     "shell.execute_reply": "2023-07-12T04:03:03.924174Z",
     "shell.execute_reply.started": "2023-07-12T04:02:58.650806Z"
    }
   },
   "outputs": [],
   "source": [
    "seg_active_contour(folder='bruises', nomor=9, bright=100, x=350, a=450, y=320, b=450)"
   ]
  },
  {
   "cell_type": "markdown",
   "metadata": {},
   "source": [
    "#### 13. Citra burns(22).jpg"
   ]
  },
  {
   "cell_type": "code",
   "execution_count": null,
   "metadata": {
    "execution": {
     "iopub.execute_input": "2023-07-12T04:03:03.927687Z",
     "iopub.status.busy": "2023-07-12T04:03:03.927342Z",
     "iopub.status.idle": "2023-07-12T04:03:06.223287Z",
     "shell.execute_reply": "2023-07-12T04:03:06.222048Z",
     "shell.execute_reply.started": "2023-07-12T04:03:03.927658Z"
    }
   },
   "outputs": [],
   "source": [
    "seg_active_contour(folder='burns', nomor=22, bright=120, x=280, a=100, y=350, b=100)"
   ]
  },
  {
   "cell_type": "markdown",
   "metadata": {},
   "source": [
    "#### 14. Citra cut(1).jpg"
   ]
  },
  {
   "cell_type": "code",
   "execution_count": null,
   "metadata": {
    "execution": {
     "iopub.execute_input": "2023-07-12T04:03:06.224809Z",
     "iopub.status.busy": "2023-07-12T04:03:06.224471Z",
     "iopub.status.idle": "2023-07-12T04:03:16.625724Z",
     "shell.execute_reply": "2023-07-12T04:03:16.624158Z",
     "shell.execute_reply.started": "2023-07-12T04:03:06.224779Z"
    }
   },
   "outputs": [],
   "source": [
    "seg_active_contour(folder='cut', nomor=1, bright=180, x=300, a=300, y=320, b=300)"
   ]
  },
  {
   "cell_type": "markdown",
   "metadata": {},
   "source": [
    "#### 15. Citra laceration(2).jpg"
   ]
  },
  {
   "cell_type": "code",
   "execution_count": null,
   "metadata": {
    "execution": {
     "iopub.execute_input": "2023-07-12T04:03:16.62763Z",
     "iopub.status.busy": "2023-07-12T04:03:16.627291Z",
     "iopub.status.idle": "2023-07-12T04:03:22.460781Z",
     "shell.execute_reply": "2023-07-12T04:03:22.45895Z",
     "shell.execute_reply.started": "2023-07-12T04:03:16.627602Z"
    }
   },
   "outputs": [],
   "source": [
    "seg_active_contour(folder='laceration', nomor=2, bright=215, x=300, a=150, y=320, b=150)"
   ]
  },
  {
   "cell_type": "markdown",
   "metadata": {},
   "source": [
    "#### 16. Citra ingrown_nail(26).jpg"
   ]
  },
  {
   "cell_type": "code",
   "execution_count": null,
   "metadata": {
    "execution": {
     "iopub.execute_input": "2023-07-12T04:03:22.462619Z",
     "iopub.status.busy": "2023-07-12T04:03:22.462242Z",
     "iopub.status.idle": "2023-07-12T04:03:27.278061Z",
     "shell.execute_reply": "2023-07-12T04:03:27.276765Z",
     "shell.execute_reply.started": "2023-07-12T04:03:22.46259Z"
    }
   },
   "outputs": [],
   "source": [
    "seg_active_contour(folder='ingrown_nails', nomor=26, bright=160, x=340, a=150, y=300, b=150)"
   ]
  },
  {
   "cell_type": "markdown",
   "metadata": {},
   "source": [
    "#### 17. Citra stab_wound(8).jpg"
   ]
  },
  {
   "cell_type": "code",
   "execution_count": null,
   "metadata": {
    "execution": {
     "iopub.execute_input": "2023-07-12T04:03:27.280114Z",
     "iopub.status.busy": "2023-07-12T04:03:27.279675Z",
     "iopub.status.idle": "2023-07-12T04:03:35.192703Z",
     "shell.execute_reply": "2023-07-12T04:03:35.191216Z",
     "shell.execute_reply.started": "2023-07-12T04:03:27.280082Z"
    }
   },
   "outputs": [],
   "source": [
    "seg_active_contour(folder='stab_wound', nomor=8, bright=180, x=300, a=200, y=300, b=200)"
   ]
  },
  {
   "cell_type": "markdown",
   "metadata": {},
   "source": [
    "#### 18. Citra cut(2).jpg"
   ]
  },
  {
   "cell_type": "code",
   "execution_count": null,
   "metadata": {
    "execution": {
     "iopub.execute_input": "2023-07-12T04:03:35.202149Z",
     "iopub.status.busy": "2023-07-12T04:03:35.20173Z",
     "iopub.status.idle": "2023-07-12T04:03:54.629023Z",
     "shell.execute_reply": "2023-07-12T04:03:54.627781Z",
     "shell.execute_reply.started": "2023-07-12T04:03:35.202117Z"
    }
   },
   "outputs": [],
   "source": [
    "seg_active_contour(folder='cut', nomor=2, bright=200, x=300, a=250, y=320, b=250)"
   ]
  },
  {
   "cell_type": "markdown",
   "metadata": {},
   "source": [
    "#### 19. Citra laceration(10).jpg"
   ]
  },
  {
   "cell_type": "code",
   "execution_count": null,
   "metadata": {
    "execution": {
     "iopub.execute_input": "2023-07-12T04:03:54.630593Z",
     "iopub.status.busy": "2023-07-12T04:03:54.630252Z",
     "iopub.status.idle": "2023-07-12T04:04:10.056668Z",
     "shell.execute_reply": "2023-07-12T04:04:10.055437Z",
     "shell.execute_reply.started": "2023-07-12T04:03:54.630562Z"
    }
   },
   "outputs": [],
   "source": [
    "seg_active_contour(folder='laceration', nomor=10, bright=140, x=300, a=200, y=400, b=100)"
   ]
  },
  {
   "cell_type": "markdown",
   "metadata": {},
   "source": [
    "#### 20. Citra ingrown_nail(28).jpg"
   ]
  },
  {
   "cell_type": "code",
   "execution_count": null,
   "metadata": {
    "execution": {
     "iopub.execute_input": "2023-07-12T04:04:28.436184Z",
     "iopub.status.busy": "2023-07-12T04:04:28.435855Z",
     "iopub.status.idle": "2023-07-12T04:04:42.418709Z",
     "shell.execute_reply": "2023-07-12T04:04:42.41787Z",
     "shell.execute_reply.started": "2023-07-12T04:04:28.436155Z"
    }
   },
   "outputs": [],
   "source": [
    "seg_active_contour(folder='ingrown_nails', nomor=28, bright=157, x=150, a=150, y=430, b=150)"
   ]
  },
  {
   "cell_type": "markdown",
   "metadata": {},
   "source": [
    "#### 21. Citra abrasions(17).jpg"
   ]
  },
  {
   "cell_type": "code",
   "execution_count": null,
   "metadata": {
    "execution": {
     "iopub.execute_input": "2023-07-12T04:04:42.420575Z",
     "iopub.status.busy": "2023-07-12T04:04:42.420218Z",
     "iopub.status.idle": "2023-07-12T04:05:00.095279Z",
     "shell.execute_reply": "2023-07-12T04:05:00.09392Z",
     "shell.execute_reply.started": "2023-07-12T04:04:42.420538Z"
    }
   },
   "outputs": [],
   "source": [
    "seg_active_contour(folder='abrasions', nomor=17, bright=155, x=300, a=250, y=320, b=240)"
   ]
  },
  {
   "cell_type": "markdown",
   "metadata": {},
   "source": [
    "#### 22. Citra bruises(18).jpg"
   ]
  },
  {
   "cell_type": "code",
   "execution_count": null,
   "metadata": {
    "execution": {
     "iopub.execute_input": "2023-07-12T04:05:00.097159Z",
     "iopub.status.busy": "2023-07-12T04:05:00.096759Z",
     "iopub.status.idle": "2023-07-12T04:05:05.706916Z",
     "shell.execute_reply": "2023-07-12T04:05:05.705536Z",
     "shell.execute_reply.started": "2023-07-12T04:05:00.097127Z"
    }
   },
   "outputs": [],
   "source": [
    "seg_active_contour(folder='bruises', nomor=18, bright=90, x=300, a=200, y=350, b=200)"
   ]
  },
  {
   "cell_type": "markdown",
   "metadata": {},
   "source": [
    "#### 23. Citra burns(22).jpg"
   ]
  },
  {
   "cell_type": "code",
   "execution_count": null,
   "metadata": {
    "execution": {
     "iopub.execute_input": "2023-07-12T04:05:05.708897Z",
     "iopub.status.busy": "2023-07-12T04:05:05.708493Z",
     "iopub.status.idle": "2023-07-12T04:05:12.656558Z",
     "shell.execute_reply": "2023-07-12T04:05:12.655445Z",
     "shell.execute_reply.started": "2023-07-12T04:05:05.708861Z"
    }
   },
   "outputs": [],
   "source": [
    "seg_active_contour(folder='burns', nomor=22, bright=125, x=300, a=150, y=380, b=150)"
   ]
  },
  {
   "cell_type": "markdown",
   "metadata": {},
   "source": [
    "#### 24. Citra cut(20).jpg "
   ]
  },
  {
   "cell_type": "code",
   "execution_count": null,
   "metadata": {
    "execution": {
     "iopub.execute_input": "2023-07-12T04:05:12.658974Z",
     "iopub.status.busy": "2023-07-12T04:05:12.658551Z",
     "iopub.status.idle": "2023-07-12T04:05:19.704112Z",
     "shell.execute_reply": "2023-07-12T04:05:19.702905Z",
     "shell.execute_reply.started": "2023-07-12T04:05:12.658928Z"
    }
   },
   "outputs": [],
   "source": [
    "seg_active_contour(folder='cut', nomor=20, bright=126, x=300, a=400, y=290, b=200)"
   ]
  },
  {
   "cell_type": "markdown",
   "metadata": {},
   "source": [
    "#### 25. Citra laceration(14).jpg"
   ]
  },
  {
   "cell_type": "code",
   "execution_count": null,
   "metadata": {
    "execution": {
     "iopub.execute_input": "2023-07-12T04:05:19.706099Z",
     "iopub.status.busy": "2023-07-12T04:05:19.705645Z",
     "iopub.status.idle": "2023-07-12T04:05:29.298469Z",
     "shell.execute_reply": "2023-07-12T04:05:29.297626Z",
     "shell.execute_reply.started": "2023-07-12T04:05:19.706059Z"
    }
   },
   "outputs": [],
   "source": [
    "seg_active_contour(folder='laceration', nomor=14, bright=180, x=300, a=200, y=300, b=200)"
   ]
  },
  {
   "cell_type": "markdown",
   "metadata": {},
   "source": [
    "#### 26. Citra ingrown_nail(16).jpg"
   ]
  },
  {
   "cell_type": "code",
   "execution_count": null,
   "metadata": {
    "execution": {
     "iopub.execute_input": "2023-07-12T04:05:29.300567Z",
     "iopub.status.busy": "2023-07-12T04:05:29.29998Z",
     "iopub.status.idle": "2023-07-12T04:05:36.285366Z",
     "shell.execute_reply": "2023-07-12T04:05:36.284189Z",
     "shell.execute_reply.started": "2023-07-12T04:05:29.300535Z"
    }
   },
   "outputs": [],
   "source": [
    "seg_active_contour(folder='ingrown_nails', nomor=16, bright=144, x=360, a=120, y=140, b=120)"
   ]
  },
  {
   "cell_type": "markdown",
   "metadata": {},
   "source": [
    "#### 27. Citra stab_wound(20).jpg"
   ]
  },
  {
   "cell_type": "code",
   "execution_count": null,
   "metadata": {
    "execution": {
     "iopub.execute_input": "2023-07-12T04:05:36.288215Z",
     "iopub.status.busy": "2023-07-12T04:05:36.287432Z",
     "iopub.status.idle": "2023-07-12T04:05:44.72007Z",
     "shell.execute_reply": "2023-07-12T04:05:44.718609Z",
     "shell.execute_reply.started": "2023-07-12T04:05:36.288174Z"
    }
   },
   "outputs": [],
   "source": [
    "seg_active_contour(folder='stab_wound', nomor=20, bright=215, x=300, a=200, y=250, b=200)"
   ]
  },
  {
   "cell_type": "markdown",
   "metadata": {},
   "source": [
    "#### 28. Citra stab_wound(23).jpg"
   ]
  },
  {
   "cell_type": "code",
   "execution_count": null,
   "metadata": {
    "execution": {
     "iopub.execute_input": "2023-07-12T04:05:44.721693Z",
     "iopub.status.busy": "2023-07-12T04:05:44.72133Z",
     "iopub.status.idle": "2023-07-12T04:05:51.422351Z",
     "shell.execute_reply": "2023-07-12T04:05:51.420911Z",
     "shell.execute_reply.started": "2023-07-12T04:05:44.721662Z"
    }
   },
   "outputs": [],
   "source": [
    "seg_active_contour(folder='stab_wound', nomor=23, bright=190, x=300, a=200, y=350, b=200)"
   ]
  },
  {
   "cell_type": "markdown",
   "metadata": {},
   "source": [
    "#### 29. Citra cut(26).jpg"
   ]
  },
  {
   "cell_type": "code",
   "execution_count": null,
   "metadata": {
    "execution": {
     "iopub.execute_input": "2023-07-12T04:05:51.424309Z",
     "iopub.status.busy": "2023-07-12T04:05:51.423949Z",
     "iopub.status.idle": "2023-07-12T04:05:56.29515Z",
     "shell.execute_reply": "2023-07-12T04:05:56.294022Z",
     "shell.execute_reply.started": "2023-07-12T04:05:51.424278Z"
    }
   },
   "outputs": [],
   "source": [
    "seg_active_contour(folder='cut', nomor=26, bright=100, x=300, a=200, y=300, b=200)"
   ]
  },
  {
   "cell_type": "markdown",
   "metadata": {},
   "source": [
    "#### 30. Citra laceration(20).jpg"
   ]
  },
  {
   "cell_type": "code",
   "execution_count": null,
   "metadata": {
    "execution": {
     "iopub.execute_input": "2023-07-12T04:05:56.29717Z",
     "iopub.status.busy": "2023-07-12T04:05:56.296811Z",
     "iopub.status.idle": "2023-07-12T04:06:12.911096Z",
     "shell.execute_reply": "2023-07-12T04:06:12.910078Z",
     "shell.execute_reply.started": "2023-07-12T04:05:56.297141Z"
    }
   },
   "outputs": [],
   "source": [
    "seg_active_contour(folder='laceration', nomor=20, bright=185, x=300, a=200, y=280, b=200)"
   ]
  },
  {
   "cell_type": "markdown",
   "metadata": {},
   "source": [
    "### Fungsi Metode Contour Detection"
   ]
  },
  {
   "cell_type": "code",
   "execution_count": null,
   "metadata": {
    "execution": {
     "iopub.execute_input": "2023-07-12T04:14:47.290041Z",
     "iopub.status.busy": "2023-07-12T04:14:47.289625Z",
     "iopub.status.idle": "2023-07-12T04:14:47.30231Z",
     "shell.execute_reply": "2023-07-12T04:14:47.301163Z",
     "shell.execute_reply.started": "2023-07-12T04:14:47.290011Z"
    }
   },
   "outputs": [],
   "source": [
    "def seg_contour_detection(folder, nomor, threshold):\n",
    "    img = cv.imread(pick(folder, nomor))\n",
    "    img_grayscale = cv.cvtColor(img, cv.COLOR_BGR2GRAY)\n",
    "    ret, thresh = cv.threshold(img_grayscale, threshold, 255, cv.THRESH_BINARY)\n",
    "    contours, hierarchy = cv.findContours(image=thresh, mode=cv.RETR_TREE, method=cv.CHAIN_APPROX_NONE)\n",
    "    image_copy = img.copy()\n",
    "    cv.drawContours(image=image_copy, contours=contours, contourIdx=-1, color=(0, 255, 0), thickness=2, lineType=cv.LINE_AA)\n",
    "    fig, axes = plt.subplots(1, 2, figsize=(10, 5))\n",
    "    axes[0].imshow(img[..., ::-1], cmap='gray')\n",
    "    axes[0].set_title(\"Citra Original\")\n",
    "    axes[0].axis('off')\n",
    "    axes[1].imshow(image_copy[..., ::-1], cmap='gray')\n",
    "    axes[1].set_title(\"Hasil Segmentasi dengan Contour Detection\")\n",
    "    axes[1].axis('off')\n",
    "    plt.show()\n",
    "    selisih = np.array(image_copy) - np.array(img)\n",
    "    mse = np.mean(np.square(selisih))\n",
    "    psnr = 10 * np.log10(255 / np.sqrt(mse))\n",
    "    print(\"MSE: \", mse)\n",
    "    print(\"PSNR: \", psnr)"
   ]
  },
  {
   "cell_type": "markdown",
   "metadata": {},
   "source": [
    "#### 1. Citra abrasion(3).jpg"
   ]
  },
  {
   "cell_type": "code",
   "execution_count": null,
   "metadata": {
    "execution": {
     "iopub.execute_input": "2023-07-12T04:14:56.502758Z",
     "iopub.status.busy": "2023-07-12T04:14:56.50206Z",
     "iopub.status.idle": "2023-07-12T04:14:57.067043Z",
     "shell.execute_reply": "2023-07-12T04:14:57.065755Z",
     "shell.execute_reply.started": "2023-07-12T04:14:56.502722Z"
    }
   },
   "outputs": [],
   "source": [
    "seg_contour_detection(folder='abrasions', nomor=3, threshold=110)"
   ]
  },
  {
   "cell_type": "markdown",
   "metadata": {},
   "source": [
    "#### 2. Citra bruises(2).jpg"
   ]
  },
  {
   "cell_type": "code",
   "execution_count": null,
   "metadata": {
    "execution": {
     "iopub.execute_input": "2023-07-12T04:15:04.631144Z",
     "iopub.status.busy": "2023-07-12T04:15:04.6307Z",
     "iopub.status.idle": "2023-07-12T04:15:05.111715Z",
     "shell.execute_reply": "2023-07-12T04:15:05.109942Z",
     "shell.execute_reply.started": "2023-07-12T04:15:04.631115Z"
    }
   },
   "outputs": [],
   "source": [
    "seg_contour_detection(folder='bruises', nomor=2, threshold=180)"
   ]
  },
  {
   "cell_type": "markdown",
   "metadata": {},
   "source": [
    "#### 3. Citra burns(36).jpg"
   ]
  },
  {
   "cell_type": "code",
   "execution_count": null,
   "metadata": {
    "execution": {
     "iopub.execute_input": "2023-07-12T04:15:13.849735Z",
     "iopub.status.busy": "2023-07-12T04:15:13.849069Z",
     "iopub.status.idle": "2023-07-12T04:15:14.400577Z",
     "shell.execute_reply": "2023-07-12T04:15:14.398185Z",
     "shell.execute_reply.started": "2023-07-12T04:15:13.849692Z"
    }
   },
   "outputs": [],
   "source": [
    "seg_contour_detection(folder='burns', nomor=36, threshold=50)"
   ]
  },
  {
   "cell_type": "markdown",
   "metadata": {},
   "source": [
    "#### 4. Citra cut(15).jpg"
   ]
  },
  {
   "cell_type": "code",
   "execution_count": null,
   "metadata": {
    "execution": {
     "iopub.execute_input": "2023-07-12T04:15:28.687226Z",
     "iopub.status.busy": "2023-07-12T04:15:28.686776Z",
     "iopub.status.idle": "2023-07-12T04:15:29.199106Z",
     "shell.execute_reply": "2023-07-12T04:15:29.197502Z",
     "shell.execute_reply.started": "2023-07-12T04:15:28.687196Z"
    }
   },
   "outputs": [],
   "source": [
    "seg_contour_detection(folder='cut', nomor=15, threshold=25)"
   ]
  },
  {
   "cell_type": "markdown",
   "metadata": {},
   "source": [
    "#### 5. Citra laceration(15).jpg"
   ]
  },
  {
   "cell_type": "code",
   "execution_count": null,
   "metadata": {
    "execution": {
     "iopub.execute_input": "2023-07-12T04:15:41.712871Z",
     "iopub.status.busy": "2023-07-12T04:15:41.712449Z",
     "iopub.status.idle": "2023-07-12T04:15:42.257477Z",
     "shell.execute_reply": "2023-07-12T04:15:42.256293Z",
     "shell.execute_reply.started": "2023-07-12T04:15:41.712841Z"
    }
   },
   "outputs": [],
   "source": [
    "seg_contour_detection(folder='laceration', nomor=15, threshold=130)"
   ]
  },
  {
   "cell_type": "markdown",
   "metadata": {},
   "source": [
    "#### 6. Citra ingrown_nail(4).jpg"
   ]
  },
  {
   "cell_type": "code",
   "execution_count": null,
   "metadata": {
    "execution": {
     "iopub.execute_input": "2023-07-12T04:16:00.11514Z",
     "iopub.status.busy": "2023-07-12T04:16:00.114725Z",
     "iopub.status.idle": "2023-07-12T04:16:00.599556Z",
     "shell.execute_reply": "2023-07-12T04:16:00.598247Z",
     "shell.execute_reply.started": "2023-07-12T04:16:00.115111Z"
    }
   },
   "outputs": [],
   "source": [
    "seg_contour_detection(folder='ingrown_nails', nomor=4, threshold=82)"
   ]
  },
  {
   "cell_type": "markdown",
   "metadata": {},
   "source": [
    "#### 7. Citra stab_wound(5).jpg"
   ]
  },
  {
   "cell_type": "code",
   "execution_count": null,
   "metadata": {
    "execution": {
     "iopub.execute_input": "2023-07-12T04:16:05.903739Z",
     "iopub.status.busy": "2023-07-12T04:16:05.903317Z",
     "iopub.status.idle": "2023-07-12T04:16:06.430496Z",
     "shell.execute_reply": "2023-07-12T04:16:06.429234Z",
     "shell.execute_reply.started": "2023-07-12T04:16:05.903707Z"
    }
   },
   "outputs": [],
   "source": [
    "seg_contour_detection(folder='stab_wound', nomor=5, threshold=70)"
   ]
  },
  {
   "cell_type": "markdown",
   "metadata": {},
   "source": [
    "#### 8. Citra abrasions(1).jpg"
   ]
  },
  {
   "cell_type": "code",
   "execution_count": null,
   "metadata": {
    "execution": {
     "iopub.execute_input": "2023-07-12T04:16:16.71702Z",
     "iopub.status.busy": "2023-07-12T04:16:16.716598Z",
     "iopub.status.idle": "2023-07-12T04:16:17.256576Z",
     "shell.execute_reply": "2023-07-12T04:16:17.255134Z",
     "shell.execute_reply.started": "2023-07-12T04:16:16.716982Z"
    }
   },
   "outputs": [],
   "source": [
    "seg_contour_detection(folder='abrasions', nomor=1, threshold=110)"
   ]
  },
  {
   "cell_type": "markdown",
   "metadata": {},
   "source": [
    "#### 9. Citra bruises(1).jpg"
   ]
  },
  {
   "cell_type": "code",
   "execution_count": null,
   "metadata": {
    "execution": {
     "iopub.execute_input": "2023-07-12T04:16:24.924189Z",
     "iopub.status.busy": "2023-07-12T04:16:24.923685Z",
     "iopub.status.idle": "2023-07-12T04:16:25.69185Z",
     "shell.execute_reply": "2023-07-12T04:16:25.69026Z",
     "shell.execute_reply.started": "2023-07-12T04:16:24.924154Z"
    }
   },
   "outputs": [],
   "source": [
    "seg_contour_detection(folder='bruises', nomor=1, threshold=140)"
   ]
  },
  {
   "cell_type": "markdown",
   "metadata": {},
   "source": [
    "#### 10. Citra burns(24).jpg"
   ]
  },
  {
   "cell_type": "code",
   "execution_count": null,
   "metadata": {
    "execution": {
     "iopub.execute_input": "2023-07-12T04:16:37.799207Z",
     "iopub.status.busy": "2023-07-12T04:16:37.798634Z",
     "iopub.status.idle": "2023-07-12T04:16:38.343119Z",
     "shell.execute_reply": "2023-07-12T04:16:38.341773Z",
     "shell.execute_reply.started": "2023-07-12T04:16:37.799167Z"
    }
   },
   "outputs": [],
   "source": [
    "seg_contour_detection(folder='burns', nomor=24, threshold=35)"
   ]
  },
  {
   "cell_type": "markdown",
   "metadata": {},
   "source": [
    "#### 11. Citra abrasions(19).jpg"
   ]
  },
  {
   "cell_type": "code",
   "execution_count": null,
   "metadata": {
    "execution": {
     "iopub.execute_input": "2023-07-12T04:16:49.1689Z",
     "iopub.status.busy": "2023-07-12T04:16:49.16845Z",
     "iopub.status.idle": "2023-07-12T04:16:49.685192Z",
     "shell.execute_reply": "2023-07-12T04:16:49.683849Z",
     "shell.execute_reply.started": "2023-07-12T04:16:49.168868Z"
    }
   },
   "outputs": [],
   "source": [
    "seg_contour_detection(folder='abrasions', nomor=19, threshold=124)"
   ]
  },
  {
   "cell_type": "markdown",
   "metadata": {},
   "source": [
    "#### 12. Citra bruises(9).jpg"
   ]
  },
  {
   "cell_type": "code",
   "execution_count": null,
   "metadata": {
    "execution": {
     "iopub.execute_input": "2023-07-12T04:16:59.894803Z",
     "iopub.status.busy": "2023-07-12T04:16:59.894056Z",
     "iopub.status.idle": "2023-07-12T04:17:00.433357Z",
     "shell.execute_reply": "2023-07-12T04:17:00.432139Z",
     "shell.execute_reply.started": "2023-07-12T04:16:59.894743Z"
    }
   },
   "outputs": [],
   "source": [
    "seg_contour_detection(folder='bruises', nomor=9, threshold=144)"
   ]
  },
  {
   "cell_type": "markdown",
   "metadata": {},
   "source": [
    "#### 13. Citra burns(22).jpg"
   ]
  },
  {
   "cell_type": "code",
   "execution_count": null,
   "metadata": {
    "execution": {
     "iopub.execute_input": "2023-07-12T04:17:08.4944Z",
     "iopub.status.busy": "2023-07-12T04:17:08.493961Z",
     "iopub.status.idle": "2023-07-12T04:17:09.010034Z",
     "shell.execute_reply": "2023-07-12T04:17:09.009002Z",
     "shell.execute_reply.started": "2023-07-12T04:17:08.494369Z"
    }
   },
   "outputs": [],
   "source": [
    "seg_contour_detection(folder='burns', nomor=22, threshold=128)"
   ]
  },
  {
   "cell_type": "markdown",
   "metadata": {},
   "source": [
    "#### 14. Citra cut(1).jpg"
   ]
  },
  {
   "cell_type": "code",
   "execution_count": null,
   "metadata": {
    "execution": {
     "iopub.execute_input": "2023-07-12T04:17:15.002997Z",
     "iopub.status.busy": "2023-07-12T04:17:15.002543Z",
     "iopub.status.idle": "2023-07-12T04:17:15.509467Z",
     "shell.execute_reply": "2023-07-12T04:17:15.508199Z",
     "shell.execute_reply.started": "2023-07-12T04:17:15.002955Z"
    }
   },
   "outputs": [],
   "source": [
    "seg_contour_detection(folder='cut', nomor=1, threshold=76)"
   ]
  },
  {
   "cell_type": "markdown",
   "metadata": {},
   "source": [
    "#### 15. Citra laceration(2).jpg"
   ]
  },
  {
   "cell_type": "code",
   "execution_count": null,
   "metadata": {
    "execution": {
     "iopub.execute_input": "2023-07-12T04:17:21.934364Z",
     "iopub.status.busy": "2023-07-12T04:17:21.933972Z",
     "iopub.status.idle": "2023-07-12T04:17:22.462135Z",
     "shell.execute_reply": "2023-07-12T04:17:22.460845Z",
     "shell.execute_reply.started": "2023-07-12T04:17:21.934336Z"
    }
   },
   "outputs": [],
   "source": [
    "seg_contour_detection(folder='laceration', nomor=2, threshold=31)"
   ]
  },
  {
   "cell_type": "markdown",
   "metadata": {},
   "source": [
    "#### 16. Citra ingrown_nail(26).jpg"
   ]
  },
  {
   "cell_type": "code",
   "execution_count": null,
   "metadata": {
    "execution": {
     "iopub.execute_input": "2023-07-12T04:17:31.146797Z",
     "iopub.status.busy": "2023-07-12T04:17:31.145995Z",
     "iopub.status.idle": "2023-07-12T04:17:31.671204Z",
     "shell.execute_reply": "2023-07-12T04:17:31.669903Z",
     "shell.execute_reply.started": "2023-07-12T04:17:31.146754Z"
    }
   },
   "outputs": [],
   "source": [
    "seg_contour_detection(folder='ingrown_nails', nomor=26, threshold=93)"
   ]
  },
  {
   "cell_type": "markdown",
   "metadata": {},
   "source": [
    "#### 17. Citra stab_wound(8).jpg"
   ]
  },
  {
   "cell_type": "code",
   "execution_count": null,
   "metadata": {
    "execution": {
     "iopub.execute_input": "2023-07-12T04:18:12.662557Z",
     "iopub.status.busy": "2023-07-12T04:18:12.662143Z",
     "iopub.status.idle": "2023-07-12T04:18:13.189381Z",
     "shell.execute_reply": "2023-07-12T04:18:13.188158Z",
     "shell.execute_reply.started": "2023-07-12T04:18:12.662527Z"
    }
   },
   "outputs": [],
   "source": [
    "seg_contour_detection(folder='stab_wound', nomor=8, threshold=55)"
   ]
  },
  {
   "cell_type": "markdown",
   "metadata": {},
   "source": [
    "#### 18. Citra cut(2).jpg"
   ]
  },
  {
   "cell_type": "code",
   "execution_count": null,
   "metadata": {
    "execution": {
     "iopub.execute_input": "2023-07-12T04:18:27.488488Z",
     "iopub.status.busy": "2023-07-12T04:18:27.48806Z",
     "iopub.status.idle": "2023-07-12T04:18:28.010258Z",
     "shell.execute_reply": "2023-07-12T04:18:28.008906Z",
     "shell.execute_reply.started": "2023-07-12T04:18:27.488456Z"
    }
   },
   "outputs": [],
   "source": [
    "seg_contour_detection(folder='cut', nomor=2, threshold=75)"
   ]
  },
  {
   "cell_type": "markdown",
   "metadata": {},
   "source": [
    "#### 19. Citra laceration(10).jpg"
   ]
  },
  {
   "cell_type": "code",
   "execution_count": null,
   "metadata": {
    "execution": {
     "iopub.execute_input": "2023-07-12T04:18:31.436425Z",
     "iopub.status.busy": "2023-07-12T04:18:31.435995Z",
     "iopub.status.idle": "2023-07-12T04:18:31.964749Z",
     "shell.execute_reply": "2023-07-12T04:18:31.963239Z",
     "shell.execute_reply.started": "2023-07-12T04:18:31.436394Z"
    }
   },
   "outputs": [],
   "source": [
    "seg_contour_detection(folder='laceration', nomor=10, threshold=125)"
   ]
  },
  {
   "cell_type": "markdown",
   "metadata": {},
   "source": [
    "#### 20. Citra ingrown_nail(28).jpg"
   ]
  },
  {
   "cell_type": "code",
   "execution_count": null,
   "metadata": {
    "execution": {
     "iopub.execute_input": "2023-07-12T04:18:41.309134Z",
     "iopub.status.busy": "2023-07-12T04:18:41.308657Z",
     "iopub.status.idle": "2023-07-12T04:18:41.837545Z",
     "shell.execute_reply": "2023-07-12T04:18:41.836413Z",
     "shell.execute_reply.started": "2023-07-12T04:18:41.309092Z"
    }
   },
   "outputs": [],
   "source": [
    "seg_contour_detection(folder='ingrown_nails', nomor=28, threshold=95)"
   ]
  },
  {
   "cell_type": "markdown",
   "metadata": {},
   "source": [
    "#### 21. Citra abrasions(17).jpg"
   ]
  },
  {
   "cell_type": "code",
   "execution_count": null,
   "metadata": {
    "execution": {
     "iopub.execute_input": "2023-07-12T04:18:47.839398Z",
     "iopub.status.busy": "2023-07-12T04:18:47.838697Z",
     "iopub.status.idle": "2023-07-12T04:18:48.371251Z",
     "shell.execute_reply": "2023-07-12T04:18:48.36993Z",
     "shell.execute_reply.started": "2023-07-12T04:18:47.839365Z"
    }
   },
   "outputs": [],
   "source": [
    "seg_contour_detection(folder='abrasions', nomor=17, threshold=126)"
   ]
  },
  {
   "cell_type": "markdown",
   "metadata": {},
   "source": [
    "#### 22. Citra bruises(18).jpg"
   ]
  },
  {
   "cell_type": "code",
   "execution_count": null,
   "metadata": {
    "execution": {
     "iopub.execute_input": "2023-07-12T04:18:53.794728Z",
     "iopub.status.busy": "2023-07-12T04:18:53.794284Z",
     "iopub.status.idle": "2023-07-12T04:18:54.320906Z",
     "shell.execute_reply": "2023-07-12T04:18:54.319532Z",
     "shell.execute_reply.started": "2023-07-12T04:18:53.794696Z"
    }
   },
   "outputs": [],
   "source": [
    "seg_contour_detection(folder='bruises', nomor=18, threshold=160)"
   ]
  },
  {
   "cell_type": "markdown",
   "metadata": {},
   "source": [
    "#### 23. Citra burns(22).jpg"
   ]
  },
  {
   "cell_type": "code",
   "execution_count": null,
   "metadata": {
    "execution": {
     "iopub.execute_input": "2023-07-12T04:19:02.121902Z",
     "iopub.status.busy": "2023-07-12T04:19:02.121393Z",
     "iopub.status.idle": "2023-07-12T04:19:02.65504Z",
     "shell.execute_reply": "2023-07-12T04:19:02.653634Z",
     "shell.execute_reply.started": "2023-07-12T04:19:02.121868Z"
    }
   },
   "outputs": [],
   "source": [
    "seg_contour_detection(folder='burns', nomor=22, threshold=131)"
   ]
  },
  {
   "cell_type": "markdown",
   "metadata": {},
   "source": [
    "#### 24. Citra cut(9).jpg"
   ]
  },
  {
   "cell_type": "code",
   "execution_count": null,
   "metadata": {
    "execution": {
     "iopub.execute_input": "2023-07-12T04:19:11.424769Z",
     "iopub.status.busy": "2023-07-12T04:19:11.424349Z",
     "iopub.status.idle": "2023-07-12T04:19:11.926129Z",
     "shell.execute_reply": "2023-07-12T04:19:11.92509Z",
     "shell.execute_reply.started": "2023-07-12T04:19:11.424739Z"
    }
   },
   "outputs": [],
   "source": [
    "seg_contour_detection(folder='cut', nomor=20, threshold=125)"
   ]
  },
  {
   "cell_type": "markdown",
   "metadata": {},
   "source": [
    "#### 25. Citra laceration(14).jpg"
   ]
  },
  {
   "cell_type": "code",
   "execution_count": null,
   "metadata": {
    "execution": {
     "iopub.execute_input": "2023-07-12T04:19:21.634281Z",
     "iopub.status.busy": "2023-07-12T04:19:21.633843Z",
     "iopub.status.idle": "2023-07-12T04:19:22.189708Z",
     "shell.execute_reply": "2023-07-12T04:19:22.188383Z",
     "shell.execute_reply.started": "2023-07-12T04:19:21.63425Z"
    }
   },
   "outputs": [],
   "source": [
    "seg_contour_detection(folder='laceration', nomor=14, threshold=80)"
   ]
  },
  {
   "cell_type": "markdown",
   "metadata": {},
   "source": [
    "#### 26. Citra ingrown_nail(16).jpg"
   ]
  },
  {
   "cell_type": "code",
   "execution_count": null,
   "metadata": {
    "execution": {
     "iopub.execute_input": "2023-07-12T04:58:08.934031Z",
     "iopub.status.busy": "2023-07-12T04:58:08.933Z",
     "iopub.status.idle": "2023-07-12T04:58:09.432809Z",
     "shell.execute_reply": "2023-07-12T04:58:09.431611Z",
     "shell.execute_reply.started": "2023-07-12T04:58:08.933986Z"
    }
   },
   "outputs": [],
   "source": [
    "seg_contour_detection(folder='ingrown_nails', nomor=16, threshold=80)"
   ]
  },
  {
   "cell_type": "markdown",
   "metadata": {},
   "source": [
    "#### 27. Citra stab_wound(20).jpg"
   ]
  },
  {
   "cell_type": "code",
   "execution_count": null,
   "metadata": {
    "execution": {
     "iopub.execute_input": "2023-07-12T04:58:58.055333Z",
     "iopub.status.busy": "2023-07-12T04:58:58.054866Z",
     "iopub.status.idle": "2023-07-12T04:58:58.561531Z",
     "shell.execute_reply": "2023-07-12T04:58:58.560653Z",
     "shell.execute_reply.started": "2023-07-12T04:58:58.0553Z"
    }
   },
   "outputs": [],
   "source": [
    "seg_contour_detection(folder='stab_wound', nomor=20, threshold=25)"
   ]
  },
  {
   "cell_type": "markdown",
   "metadata": {},
   "source": [
    "#### 28. Citra stab_wound(23).jpg"
   ]
  },
  {
   "cell_type": "code",
   "execution_count": null,
   "metadata": {
    "execution": {
     "iopub.execute_input": "2023-07-12T04:59:02.074774Z",
     "iopub.status.busy": "2023-07-12T04:59:02.074096Z",
     "iopub.status.idle": "2023-07-12T04:59:02.58083Z",
     "shell.execute_reply": "2023-07-12T04:59:02.579531Z",
     "shell.execute_reply.started": "2023-07-12T04:59:02.074741Z"
    }
   },
   "outputs": [],
   "source": [
    "seg_contour_detection(folder='stab_wound', nomor=23, threshold=23)"
   ]
  },
  {
   "cell_type": "markdown",
   "metadata": {},
   "source": [
    "#### 29. Citra cut().jpg"
   ]
  },
  {
   "cell_type": "code",
   "execution_count": null,
   "metadata": {
    "execution": {
     "iopub.execute_input": "2023-07-12T04:59:07.875255Z",
     "iopub.status.busy": "2023-07-12T04:59:07.874831Z",
     "iopub.status.idle": "2023-07-12T04:59:08.366489Z",
     "shell.execute_reply": "2023-07-12T04:59:08.365295Z",
     "shell.execute_reply.started": "2023-07-12T04:59:07.875223Z"
    }
   },
   "outputs": [],
   "source": [
    "seg_contour_detection(folder='cut', nomor=26, threshold=140)"
   ]
  },
  {
   "cell_type": "markdown",
   "metadata": {},
   "source": [
    "#### 30. Citra laceration(20).jpg "
   ]
  },
  {
   "cell_type": "code",
   "execution_count": null,
   "metadata": {
    "execution": {
     "iopub.execute_input": "2023-07-12T05:00:01.236691Z",
     "iopub.status.busy": "2023-07-12T05:00:01.236133Z",
     "iopub.status.idle": "2023-07-12T05:00:01.780318Z",
     "shell.execute_reply": "2023-07-12T05:00:01.778912Z",
     "shell.execute_reply.started": "2023-07-12T05:00:01.236649Z"
    }
   },
   "outputs": [],
   "source": [
    "seg_contour_detection(folder='laceration', nomor=20, threshold=68)"
   ]
  },
  {
   "cell_type": "markdown",
   "metadata": {},
   "source": [
    "### Pengujian Waktu Eksekusi"
   ]
  },
  {
   "cell_type": "code",
   "execution_count": null,
   "metadata": {
    "execution": {
     "iopub.status.busy": "2023-07-12T04:06:25.985111Z",
     "iopub.status.idle": "2023-07-12T04:06:25.986062Z",
     "shell.execute_reply": "2023-07-12T04:06:25.985682Z",
     "shell.execute_reply.started": "2023-07-12T04:06:25.985653Z"
    }
   },
   "outputs": [],
   "source": [
    "def metode_active_contour(folder, nomor):\n",
    "    citra = cv.imread(pick(folder, nomor))\n",
    "    citra_grayscale = cv.cvtColor(citra, cv.COLOR_BGR2GRAY)\n",
    "    brightness = 200\n",
    "    citra_brightened = cv.add(citra_grayscale, brightness)\n",
    "    citra_denoise = cv.medianBlur(citra_brightened, 3)\n",
    "    citra_denoise = cv.fastNlMeansDenoising(citra_denoise, None, 10, 10, 7)\n",
    "    citra_contrast_adjusted = cv.equalizeHist(citra_denoise)\n",
    "    s = np.linspace(0, 2*np.pi, 500)\n",
    "    r = 300 + 300*np.sin(s)\n",
    "    c = 320 + 300*np.cos(s)\n",
    "    init = np.array([r, c]).T\n",
    "    snake = active_contour(gaussian(citra_contrast_adjusted, 3, preserve_range=False),\n",
    "                           init, alpha=0.01, beta=0, gamma=0.001)\n",
    "    fig, axes = plt.subplots(1, 2, figsize=(10, 5))\n",
    "    axes[0].set_title(\"Citra Original\")\n",
    "    axes[0].imshow(citra[..., ::-1], cmap='gray')\n",
    "    axes[0].axis('off')\n",
    "    axes[1].imshow(citra[..., ::-1], cmap='gray')\n",
    "    axes[1].plot(snake[:, 1], snake[:, 0], '-w', lw=3)\n",
    "    axes[1].set_title(\"Hasil Segmentasi dengan Active Contour\")\n",
    "    axes[1].axis('off')\n",
    "    plt.show()\n",
    "    selisih = np.array(citra_denoise) - np.array(citra[:, :, 0])\n",
    "    mse = np.mean(np.square(selisih))\n",
    "    psnr = 10 * np.log10(255 / np.sqrt(mse))\n",
    "    print(\"MSE: \", mse)\n",
    "    print(\"PSNR: \", psnr)\n",
    "    \n",
    "def metode_contour_detection(folder, nomor):\n",
    "    img = cv.imread(pick(folder, nomor))\n",
    "    img_grayscale = cv.cvtColor(img, cv.COLOR_BGR2GRAY)\n",
    "    ret, thresh = cv.threshold(img_grayscale, 25, 255, cv.THRESH_BINARY)\n",
    "    contours, hierarchy = cv.findContours(image=thresh, mode=cv.RETR_TREE, method=cv.CHAIN_APPROX_NONE)\n",
    "    image_copy = img.copy()\n",
    "    cv.drawContours(image=image_copy, contours=contours, contourIdx=-1, color=(0, 255, 0), thickness=2, lineType=cv.LINE_AA)\n",
    "    fig, axes = plt.subplots(1, 2, figsize=(10, 5))\n",
    "    axes[0].imshow(img[..., ::-1], cmap='gray')\n",
    "    axes[0].set_title(\"Citra Original\")\n",
    "    axes[0].axis('off')\n",
    "    axes[1].imshow(image_copy[..., ::-1], cmap='gray')\n",
    "    axes[1].set_title(\"Hasil Segmentasi dengan Contour Detection\")\n",
    "    axes[1].axis('off')\n",
    "    plt.show()\n",
    "    selisih = np.array(image_copy) - np.array(img)\n",
    "    mse = np.mean(np.square(selisih))\n",
    "    psnr = 10 * np.log10(255 / np.sqrt(mse))\n",
    "    print(\"MSE: \", mse)\n",
    "    print(\"PSNR: \", psnr)"
   ]
  },
  {
   "cell_type": "code",
   "execution_count": null,
   "metadata": {
    "execution": {
     "iopub.status.busy": "2023-07-12T04:06:25.987899Z",
     "iopub.status.idle": "2023-07-12T04:06:25.988443Z",
     "shell.execute_reply": "2023-07-12T04:06:25.988189Z",
     "shell.execute_reply.started": "2023-07-12T04:06:25.988163Z"
    }
   },
   "outputs": [],
   "source": [
    "# Folder dan nomor citra\n",
    "folder = 'cut'\n",
    "nomor = 15\n",
    "\n",
    "# Menginisialisasi list untuk menyimpan hasil eksekusi dan akurasi\n",
    "execution_times_active_contour = []\n",
    "execution_times_contour_detection = []\n",
    "\n",
    "# Melakukan iterasi 30 kali\n",
    "for _ in range(30):\n",
    "    start_time = time.time()\n",
    "    metode_active_contour(folder, nomor)\n",
    "    execution_time = time.time() - start_time\n",
    "    execution_times_active_contour.append(execution_time)\n",
    "\n",
    "    start_time = time.time()\n",
    "    metode_contour_detection(folder, nomor)\n",
    "    execution_time = time.time() - start_time\n",
    "    execution_times_contour_detection.append(execution_time)\n",
    "\n",
    "# Menghitung rata-rata eksekusi\n",
    "avg_execution_time_active_contour = np.mean(execution_times_active_contour)\n",
    "avg_execution_time_contour_detection = np.mean(execution_times_contour_detection)\n",
    "\n",
    "# Menampilkan perbandingan rata-rata eksekusi\n",
    "print(\"Rata-rata Waktu Eksekusi Active Contour:\", avg_execution_time_active_contour, \"detik\")\n",
    "print(\"Rata-rata Waktu Eksekusi Contour Detection:\", avg_execution_time_contour_detection, \"detik\")\n",
    "\n",
    "# Menggabungkan list execution_times_active_contour dan execution_times_contour_detection menjadi array 2D\n",
    "data = np.array([execution_times_active_contour, execution_times_contour_detection]).T\n",
    "\n",
    "# Membuat DataFrame dari array dan menampilkan tabel\n",
    "pd.DataFrame(data, columns=['Active Contour', 'Contour Detection'])"
   ]
  }
 ],
 "metadata": {
  "kaggle": {
   "accelerator": "none",
   "dataSources": [
    {
     "datasetId": 2819365,
     "sourceId": 4863169,
     "sourceType": "datasetVersion"
    }
   ],
   "dockerImageVersionId": 30497,
   "isGpuEnabled": false,
   "isInternetEnabled": false,
   "language": "python",
   "sourceType": "notebook"
  },
  "kernelspec": {
   "display_name": "Python 3 (ipykernel)",
   "language": "python",
   "name": "python3"
  },
  "language_info": {
   "codemirror_mode": {
    "name": "ipython",
    "version": 3
   },
   "file_extension": ".py",
   "mimetype": "text/x-python",
   "name": "python",
   "nbconvert_exporter": "python",
   "pygments_lexer": "ipython3",
   "version": "3.10.13"
  }
 },
 "nbformat": 4,
 "nbformat_minor": 4
}
